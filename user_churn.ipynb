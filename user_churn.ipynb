{
  "nbformat": 4,
  "nbformat_minor": 0,
  "metadata": {
    "kernelspec": {
      "display_name": "Python 3",
      "language": "python",
      "name": "python3"
    },
    "language_info": {
      "codemirror_mode": {
        "name": "ipython",
        "version": 3
      },
      "file_extension": ".py",
      "mimetype": "text/x-python",
      "name": "python",
      "nbconvert_exporter": "python",
      "pygments_lexer": "ipython3",
      "version": "3.7.4"
    },
    "colab": {
      "provenance": []
    },
    "accelerator": "GPU",
    "gpuClass": "standard"
  },
  "cells": [
    {
      "cell_type": "markdown",
      "metadata": {
        "id": "IrDNNkNTEEYz"
      },
      "source": [
        "# Предсказание оттока клиентов\n",
        "\n",
        "https://www.kaggle.com/competitions/advanced-dls-spring-2021"
      ]
    },
    {
      "cell_type": "code",
      "metadata": {
        "id": "lzLqEeZKEEYz"
      },
      "source": [
        "import pandas as pd\n",
        "import numpy as np\n",
        "from matplotlib import pyplot as plt\n",
        "from sklearn.metrics import roc_auc_score\n"
      ],
      "execution_count": null,
      "outputs": []
    },
    {
      "cell_type": "markdown",
      "metadata": {
        "id": "LOlxdURSEEY3"
      },
      "source": [
        "## Загрузка данных\n"
      ]
    },
    {
      "cell_type": "code",
      "metadata": {
        "id": "pw-Brue9EEY3"
      },
      "source": [
        "df = pd.read_csv('./train.csv')"
      ],
      "execution_count": null,
      "outputs": []
    },
    {
      "cell_type": "code",
      "metadata": {
        "id": "KgnkkF5bEEY9"
      },
      "source": [
        "# Для вашего удобства списки с именами разных колонок\n",
        "\n",
        "# Числовые признаки\n",
        "num_cols = [\n",
        "    'ClientPeriod',\n",
        "    'MonthlySpending',\n",
        "    'TotalSpent'\n",
        "]\n",
        "\n",
        "# Категориальные признаки\n",
        "cat_cols = [\n",
        "    'Sex',\n",
        "    'IsSeniorCitizen',\n",
        "    'HasPartner',\n",
        "    'HasChild',\n",
        "    'HasPhoneService',\n",
        "    'HasMultiplePhoneNumbers',\n",
        "    'HasInternetService',\n",
        "    'HasOnlineSecurityService',\n",
        "    'HasOnlineBackup',\n",
        "    'HasDeviceProtection',\n",
        "    'HasTechSupportAccess',\n",
        "    'HasOnlineTV',\n",
        "    'HasMovieSubscription',\n",
        "    'HasContractPhone',\n",
        "    'IsBillingPaperless',\n",
        "    'PaymentMethod'\n",
        "]\n",
        "\n",
        "feature_cols = num_cols + cat_cols\n",
        "target_col = 'Churn'"
      ],
      "execution_count": null,
      "outputs": []
    },
    {
      "cell_type": "code",
      "metadata": {
        "id": "tHC6gWabEEZA",
        "colab": {
          "base_uri": "https://localhost:8080/",
          "height": 340
        },
        "outputId": "6d2686a9-4821-46d3-e2eb-3eb3ea38df74"
      },
      "source": [
        "data = df.copy()\n",
        "\n",
        "data.head()"
      ],
      "execution_count": null,
      "outputs": [
        {
          "output_type": "execute_result",
          "data": {
            "text/plain": [
              "   ClientPeriod  MonthlySpending TotalSpent     Sex  IsSeniorCitizen  \\\n",
              "0            55            19.50    1026.35    Male                0   \n",
              "1            72            25.85     1872.2    Male                0   \n",
              "2             1            75.90       75.9    Male                0   \n",
              "3            32            79.30       2570  Female                1   \n",
              "4            60           115.25    6758.45  Female                0   \n",
              "\n",
              "  HasPartner HasChild HasPhoneService HasMultiplePhoneNumbers  \\\n",
              "0        Yes      Yes             Yes                      No   \n",
              "1        Yes       No             Yes                     Yes   \n",
              "2         No       No             Yes                      No   \n",
              "3        Yes       No             Yes                     Yes   \n",
              "4        Yes      Yes             Yes                     Yes   \n",
              "\n",
              "  HasInternetService HasOnlineSecurityService      HasOnlineBackup  \\\n",
              "0                 No      No internet service  No internet service   \n",
              "1                 No      No internet service  No internet service   \n",
              "2        Fiber optic                       No                   No   \n",
              "3        Fiber optic                       No                   No   \n",
              "4        Fiber optic                      Yes                  Yes   \n",
              "\n",
              "   HasDeviceProtection HasTechSupportAccess          HasOnlineTV  \\\n",
              "0  No internet service  No internet service  No internet service   \n",
              "1  No internet service  No internet service  No internet service   \n",
              "2                   No                  Yes                   No   \n",
              "3                  Yes                   No                   No   \n",
              "4                  Yes                  Yes                  Yes   \n",
              "\n",
              "  HasMovieSubscription HasContractPhone IsBillingPaperless  \\\n",
              "0  No internet service         One year                 No   \n",
              "1  No internet service         Two year                 No   \n",
              "2                   No   Month-to-month                Yes   \n",
              "3                   No   Month-to-month                 No   \n",
              "4                  Yes         Two year                 No   \n",
              "\n",
              "             PaymentMethod  Churn  \n",
              "0             Mailed check      0  \n",
              "1  Credit card (automatic)      0  \n",
              "2         Electronic check      1  \n",
              "3             Mailed check      0  \n",
              "4  Credit card (automatic)      0  "
            ],
            "text/html": [
              "\n",
              "  <div id=\"df-4cf50489-c851-4597-b500-7bc66c8fdfd0\">\n",
              "    <div class=\"colab-df-container\">\n",
              "      <div>\n",
              "<style scoped>\n",
              "    .dataframe tbody tr th:only-of-type {\n",
              "        vertical-align: middle;\n",
              "    }\n",
              "\n",
              "    .dataframe tbody tr th {\n",
              "        vertical-align: top;\n",
              "    }\n",
              "\n",
              "    .dataframe thead th {\n",
              "        text-align: right;\n",
              "    }\n",
              "</style>\n",
              "<table border=\"1\" class=\"dataframe\">\n",
              "  <thead>\n",
              "    <tr style=\"text-align: right;\">\n",
              "      <th></th>\n",
              "      <th>ClientPeriod</th>\n",
              "      <th>MonthlySpending</th>\n",
              "      <th>TotalSpent</th>\n",
              "      <th>Sex</th>\n",
              "      <th>IsSeniorCitizen</th>\n",
              "      <th>HasPartner</th>\n",
              "      <th>HasChild</th>\n",
              "      <th>HasPhoneService</th>\n",
              "      <th>HasMultiplePhoneNumbers</th>\n",
              "      <th>HasInternetService</th>\n",
              "      <th>HasOnlineSecurityService</th>\n",
              "      <th>HasOnlineBackup</th>\n",
              "      <th>HasDeviceProtection</th>\n",
              "      <th>HasTechSupportAccess</th>\n",
              "      <th>HasOnlineTV</th>\n",
              "      <th>HasMovieSubscription</th>\n",
              "      <th>HasContractPhone</th>\n",
              "      <th>IsBillingPaperless</th>\n",
              "      <th>PaymentMethod</th>\n",
              "      <th>Churn</th>\n",
              "    </tr>\n",
              "  </thead>\n",
              "  <tbody>\n",
              "    <tr>\n",
              "      <th>0</th>\n",
              "      <td>55</td>\n",
              "      <td>19.50</td>\n",
              "      <td>1026.35</td>\n",
              "      <td>Male</td>\n",
              "      <td>0</td>\n",
              "      <td>Yes</td>\n",
              "      <td>Yes</td>\n",
              "      <td>Yes</td>\n",
              "      <td>No</td>\n",
              "      <td>No</td>\n",
              "      <td>No internet service</td>\n",
              "      <td>No internet service</td>\n",
              "      <td>No internet service</td>\n",
              "      <td>No internet service</td>\n",
              "      <td>No internet service</td>\n",
              "      <td>No internet service</td>\n",
              "      <td>One year</td>\n",
              "      <td>No</td>\n",
              "      <td>Mailed check</td>\n",
              "      <td>0</td>\n",
              "    </tr>\n",
              "    <tr>\n",
              "      <th>1</th>\n",
              "      <td>72</td>\n",
              "      <td>25.85</td>\n",
              "      <td>1872.2</td>\n",
              "      <td>Male</td>\n",
              "      <td>0</td>\n",
              "      <td>Yes</td>\n",
              "      <td>No</td>\n",
              "      <td>Yes</td>\n",
              "      <td>Yes</td>\n",
              "      <td>No</td>\n",
              "      <td>No internet service</td>\n",
              "      <td>No internet service</td>\n",
              "      <td>No internet service</td>\n",
              "      <td>No internet service</td>\n",
              "      <td>No internet service</td>\n",
              "      <td>No internet service</td>\n",
              "      <td>Two year</td>\n",
              "      <td>No</td>\n",
              "      <td>Credit card (automatic)</td>\n",
              "      <td>0</td>\n",
              "    </tr>\n",
              "    <tr>\n",
              "      <th>2</th>\n",
              "      <td>1</td>\n",
              "      <td>75.90</td>\n",
              "      <td>75.9</td>\n",
              "      <td>Male</td>\n",
              "      <td>0</td>\n",
              "      <td>No</td>\n",
              "      <td>No</td>\n",
              "      <td>Yes</td>\n",
              "      <td>No</td>\n",
              "      <td>Fiber optic</td>\n",
              "      <td>No</td>\n",
              "      <td>No</td>\n",
              "      <td>No</td>\n",
              "      <td>Yes</td>\n",
              "      <td>No</td>\n",
              "      <td>No</td>\n",
              "      <td>Month-to-month</td>\n",
              "      <td>Yes</td>\n",
              "      <td>Electronic check</td>\n",
              "      <td>1</td>\n",
              "    </tr>\n",
              "    <tr>\n",
              "      <th>3</th>\n",
              "      <td>32</td>\n",
              "      <td>79.30</td>\n",
              "      <td>2570</td>\n",
              "      <td>Female</td>\n",
              "      <td>1</td>\n",
              "      <td>Yes</td>\n",
              "      <td>No</td>\n",
              "      <td>Yes</td>\n",
              "      <td>Yes</td>\n",
              "      <td>Fiber optic</td>\n",
              "      <td>No</td>\n",
              "      <td>No</td>\n",
              "      <td>Yes</td>\n",
              "      <td>No</td>\n",
              "      <td>No</td>\n",
              "      <td>No</td>\n",
              "      <td>Month-to-month</td>\n",
              "      <td>No</td>\n",
              "      <td>Mailed check</td>\n",
              "      <td>0</td>\n",
              "    </tr>\n",
              "    <tr>\n",
              "      <th>4</th>\n",
              "      <td>60</td>\n",
              "      <td>115.25</td>\n",
              "      <td>6758.45</td>\n",
              "      <td>Female</td>\n",
              "      <td>0</td>\n",
              "      <td>Yes</td>\n",
              "      <td>Yes</td>\n",
              "      <td>Yes</td>\n",
              "      <td>Yes</td>\n",
              "      <td>Fiber optic</td>\n",
              "      <td>Yes</td>\n",
              "      <td>Yes</td>\n",
              "      <td>Yes</td>\n",
              "      <td>Yes</td>\n",
              "      <td>Yes</td>\n",
              "      <td>Yes</td>\n",
              "      <td>Two year</td>\n",
              "      <td>No</td>\n",
              "      <td>Credit card (automatic)</td>\n",
              "      <td>0</td>\n",
              "    </tr>\n",
              "  </tbody>\n",
              "</table>\n",
              "</div>\n",
              "      <button class=\"colab-df-convert\" onclick=\"convertToInteractive('df-4cf50489-c851-4597-b500-7bc66c8fdfd0')\"\n",
              "              title=\"Convert this dataframe to an interactive table.\"\n",
              "              style=\"display:none;\">\n",
              "        \n",
              "  <svg xmlns=\"http://www.w3.org/2000/svg\" height=\"24px\"viewBox=\"0 0 24 24\"\n",
              "       width=\"24px\">\n",
              "    <path d=\"M0 0h24v24H0V0z\" fill=\"none\"/>\n",
              "    <path d=\"M18.56 5.44l.94 2.06.94-2.06 2.06-.94-2.06-.94-.94-2.06-.94 2.06-2.06.94zm-11 1L8.5 8.5l.94-2.06 2.06-.94-2.06-.94L8.5 2.5l-.94 2.06-2.06.94zm10 10l.94 2.06.94-2.06 2.06-.94-2.06-.94-.94-2.06-.94 2.06-2.06.94z\"/><path d=\"M17.41 7.96l-1.37-1.37c-.4-.4-.92-.59-1.43-.59-.52 0-1.04.2-1.43.59L10.3 9.45l-7.72 7.72c-.78.78-.78 2.05 0 2.83L4 21.41c.39.39.9.59 1.41.59.51 0 1.02-.2 1.41-.59l7.78-7.78 2.81-2.81c.8-.78.8-2.07 0-2.86zM5.41 20L4 18.59l7.72-7.72 1.47 1.35L5.41 20z\"/>\n",
              "  </svg>\n",
              "      </button>\n",
              "      \n",
              "  <style>\n",
              "    .colab-df-container {\n",
              "      display:flex;\n",
              "      flex-wrap:wrap;\n",
              "      gap: 12px;\n",
              "    }\n",
              "\n",
              "    .colab-df-convert {\n",
              "      background-color: #E8F0FE;\n",
              "      border: none;\n",
              "      border-radius: 50%;\n",
              "      cursor: pointer;\n",
              "      display: none;\n",
              "      fill: #1967D2;\n",
              "      height: 32px;\n",
              "      padding: 0 0 0 0;\n",
              "      width: 32px;\n",
              "    }\n",
              "\n",
              "    .colab-df-convert:hover {\n",
              "      background-color: #E2EBFA;\n",
              "      box-shadow: 0px 1px 2px rgba(60, 64, 67, 0.3), 0px 1px 3px 1px rgba(60, 64, 67, 0.15);\n",
              "      fill: #174EA6;\n",
              "    }\n",
              "\n",
              "    [theme=dark] .colab-df-convert {\n",
              "      background-color: #3B4455;\n",
              "      fill: #D2E3FC;\n",
              "    }\n",
              "\n",
              "    [theme=dark] .colab-df-convert:hover {\n",
              "      background-color: #434B5C;\n",
              "      box-shadow: 0px 1px 3px 1px rgba(0, 0, 0, 0.15);\n",
              "      filter: drop-shadow(0px 1px 2px rgba(0, 0, 0, 0.3));\n",
              "      fill: #FFFFFF;\n",
              "    }\n",
              "  </style>\n",
              "\n",
              "      <script>\n",
              "        const buttonEl =\n",
              "          document.querySelector('#df-4cf50489-c851-4597-b500-7bc66c8fdfd0 button.colab-df-convert');\n",
              "        buttonEl.style.display =\n",
              "          google.colab.kernel.accessAllowed ? 'block' : 'none';\n",
              "\n",
              "        async function convertToInteractive(key) {\n",
              "          const element = document.querySelector('#df-4cf50489-c851-4597-b500-7bc66c8fdfd0');\n",
              "          const dataTable =\n",
              "            await google.colab.kernel.invokeFunction('convertToInteractive',\n",
              "                                                     [key], {});\n",
              "          if (!dataTable) return;\n",
              "\n",
              "          const docLinkHtml = 'Like what you see? Visit the ' +\n",
              "            '<a target=\"_blank\" href=https://colab.research.google.com/notebooks/data_table.ipynb>data table notebook</a>'\n",
              "            + ' to learn more about interactive tables.';\n",
              "          element.innerHTML = '';\n",
              "          dataTable['output_type'] = 'display_data';\n",
              "          await google.colab.output.renderOutput(dataTable, element);\n",
              "          const docLink = document.createElement('div');\n",
              "          docLink.innerHTML = docLinkHtml;\n",
              "          element.appendChild(docLink);\n",
              "        }\n",
              "      </script>\n",
              "    </div>\n",
              "  </div>\n",
              "  "
            ]
          },
          "metadata": {},
          "execution_count": 118
        }
      ]
    },
    {
      "cell_type": "code",
      "source": [
        "data.info()"
      ],
      "metadata": {
        "colab": {
          "base_uri": "https://localhost:8080/"
        },
        "id": "8p287m3Xucul",
        "outputId": "1c5d59d6-c440-4c44-c2fc-d6102c499c83"
      },
      "execution_count": null,
      "outputs": [
        {
          "output_type": "stream",
          "name": "stdout",
          "text": [
            "<class 'pandas.core.frame.DataFrame'>\n",
            "RangeIndex: 5282 entries, 0 to 5281\n",
            "Data columns (total 20 columns):\n",
            " #   Column                    Non-Null Count  Dtype  \n",
            "---  ------                    --------------  -----  \n",
            " 0   ClientPeriod              5282 non-null   int64  \n",
            " 1   MonthlySpending           5282 non-null   float64\n",
            " 2   TotalSpent                5282 non-null   object \n",
            " 3   Sex                       5282 non-null   object \n",
            " 4   IsSeniorCitizen           5282 non-null   int64  \n",
            " 5   HasPartner                5282 non-null   object \n",
            " 6   HasChild                  5282 non-null   object \n",
            " 7   HasPhoneService           5282 non-null   object \n",
            " 8   HasMultiplePhoneNumbers   5282 non-null   object \n",
            " 9   HasInternetService        5282 non-null   object \n",
            " 10  HasOnlineSecurityService  5282 non-null   object \n",
            " 11  HasOnlineBackup           5282 non-null   object \n",
            " 12  HasDeviceProtection       5282 non-null   object \n",
            " 13  HasTechSupportAccess      5282 non-null   object \n",
            " 14  HasOnlineTV               5282 non-null   object \n",
            " 15  HasMovieSubscription      5282 non-null   object \n",
            " 16  HasContractPhone          5282 non-null   object \n",
            " 17  IsBillingPaperless        5282 non-null   object \n",
            " 18  PaymentMethod             5282 non-null   object \n",
            " 19  Churn                     5282 non-null   int64  \n",
            "dtypes: float64(1), int64(3), object(16)\n",
            "memory usage: 825.4+ KB\n"
          ]
        }
      ]
    },
    {
      "cell_type": "markdown",
      "source": [
        "Заменим весь мусор на None"
      ],
      "metadata": {
        "id": "YPyoq4UeSRAR"
      }
    },
    {
      "cell_type": "code",
      "source": [
        "for col in data:\n",
        "    if data[col].dtype == object:\n",
        "        data[col] = data[col].apply(func=lambda x: None if (x is None or str.isspace(x) or not x) else x)\n",
        "    \n",
        "\n",
        "data.isna().sum()"
      ],
      "metadata": {
        "colab": {
          "base_uri": "https://localhost:8080/"
        },
        "id": "M-ZTt_iJoc4O",
        "outputId": "17b9d58c-5b70-4ddc-91ff-89c00a5c399a"
      },
      "execution_count": null,
      "outputs": [
        {
          "output_type": "execute_result",
          "data": {
            "text/plain": [
              "ClientPeriod                0\n",
              "MonthlySpending             0\n",
              "TotalSpent                  9\n",
              "Sex                         0\n",
              "IsSeniorCitizen             0\n",
              "HasPartner                  0\n",
              "HasChild                    0\n",
              "HasPhoneService             0\n",
              "HasMultiplePhoneNumbers     0\n",
              "HasInternetService          0\n",
              "HasOnlineSecurityService    0\n",
              "HasOnlineBackup             0\n",
              "HasDeviceProtection         0\n",
              "HasTechSupportAccess        0\n",
              "HasOnlineTV                 0\n",
              "HasMovieSubscription        0\n",
              "HasContractPhone            0\n",
              "IsBillingPaperless          0\n",
              "PaymentMethod               0\n",
              "Churn                       0\n",
              "dtype: int64"
            ]
          },
          "metadata": {},
          "execution_count": 120
        }
      ]
    },
    {
      "cell_type": "code",
      "source": [
        "data[data.isna().any(axis=1)]"
      ],
      "metadata": {
        "colab": {
          "base_uri": "https://localhost:8080/",
          "height": 517
        },
        "id": "O1EFt4FLvkjl",
        "outputId": "c99ddaa8-c97e-434c-ce77-7f535e20bd65"
      },
      "execution_count": null,
      "outputs": [
        {
          "output_type": "execute_result",
          "data": {
            "text/plain": [
              "      ClientPeriod  MonthlySpending TotalSpent     Sex  IsSeniorCitizen  \\\n",
              "1048             0            25.75       None    Male                0   \n",
              "1707             0            73.35       None  Female                0   \n",
              "2543             0            19.70       None    Male                0   \n",
              "3078             0            80.85       None  Female                0   \n",
              "3697             0            20.00       None  Female                0   \n",
              "4002             0            61.90       None    Male                0   \n",
              "4326             0            25.35       None    Male                0   \n",
              "4551             0            52.55       None  Female                0   \n",
              "4598             0            56.05       None  Female                0   \n",
              "\n",
              "     HasPartner HasChild HasPhoneService HasMultiplePhoneNumbers  \\\n",
              "1048        Yes      Yes             Yes                     Yes   \n",
              "1707        Yes      Yes             Yes                     Yes   \n",
              "2543        Yes      Yes             Yes                      No   \n",
              "3078        Yes      Yes             Yes                      No   \n",
              "3697        Yes      Yes             Yes                      No   \n",
              "4002         No      Yes             Yes                     Yes   \n",
              "4326        Yes      Yes             Yes                     Yes   \n",
              "4551        Yes      Yes              No        No phone service   \n",
              "4598        Yes      Yes              No        No phone service   \n",
              "\n",
              "     HasInternetService HasOnlineSecurityService      HasOnlineBackup  \\\n",
              "1048                 No      No internet service  No internet service   \n",
              "1707                DSL                       No                  Yes   \n",
              "2543                 No      No internet service  No internet service   \n",
              "3078                DSL                      Yes                  Yes   \n",
              "3697                 No      No internet service  No internet service   \n",
              "4002                DSL                      Yes                  Yes   \n",
              "4326                 No      No internet service  No internet service   \n",
              "4551                DSL                      Yes                   No   \n",
              "4598                DSL                      Yes                  Yes   \n",
              "\n",
              "      HasDeviceProtection HasTechSupportAccess          HasOnlineTV  \\\n",
              "1048  No internet service  No internet service  No internet service   \n",
              "1707                  Yes                  Yes                  Yes   \n",
              "2543  No internet service  No internet service  No internet service   \n",
              "3078                  Yes                   No                  Yes   \n",
              "3697  No internet service  No internet service  No internet service   \n",
              "4002                   No                  Yes                   No   \n",
              "4326  No internet service  No internet service  No internet service   \n",
              "4551                  Yes                  Yes                  Yes   \n",
              "4598                  Yes                  Yes                  Yes   \n",
              "\n",
              "     HasMovieSubscription HasContractPhone IsBillingPaperless  \\\n",
              "1048  No internet service         Two year                 No   \n",
              "1707                   No         Two year                 No   \n",
              "2543  No internet service         One year                Yes   \n",
              "3078                  Yes         Two year                 No   \n",
              "3697  No internet service         Two year                 No   \n",
              "4002                   No         Two year                Yes   \n",
              "4326  No internet service         Two year                 No   \n",
              "4551                   No         Two year                Yes   \n",
              "4598                   No         Two year                 No   \n",
              "\n",
              "                  PaymentMethod  Churn  \n",
              "1048               Mailed check      0  \n",
              "1707               Mailed check      0  \n",
              "2543               Mailed check      0  \n",
              "3078               Mailed check      0  \n",
              "3697               Mailed check      0  \n",
              "4002  Bank transfer (automatic)      0  \n",
              "4326               Mailed check      0  \n",
              "4551  Bank transfer (automatic)      0  \n",
              "4598    Credit card (automatic)      0  "
            ],
            "text/html": [
              "\n",
              "  <div id=\"df-e246e712-3b7a-408e-abca-b2606f7c7574\">\n",
              "    <div class=\"colab-df-container\">\n",
              "      <div>\n",
              "<style scoped>\n",
              "    .dataframe tbody tr th:only-of-type {\n",
              "        vertical-align: middle;\n",
              "    }\n",
              "\n",
              "    .dataframe tbody tr th {\n",
              "        vertical-align: top;\n",
              "    }\n",
              "\n",
              "    .dataframe thead th {\n",
              "        text-align: right;\n",
              "    }\n",
              "</style>\n",
              "<table border=\"1\" class=\"dataframe\">\n",
              "  <thead>\n",
              "    <tr style=\"text-align: right;\">\n",
              "      <th></th>\n",
              "      <th>ClientPeriod</th>\n",
              "      <th>MonthlySpending</th>\n",
              "      <th>TotalSpent</th>\n",
              "      <th>Sex</th>\n",
              "      <th>IsSeniorCitizen</th>\n",
              "      <th>HasPartner</th>\n",
              "      <th>HasChild</th>\n",
              "      <th>HasPhoneService</th>\n",
              "      <th>HasMultiplePhoneNumbers</th>\n",
              "      <th>HasInternetService</th>\n",
              "      <th>HasOnlineSecurityService</th>\n",
              "      <th>HasOnlineBackup</th>\n",
              "      <th>HasDeviceProtection</th>\n",
              "      <th>HasTechSupportAccess</th>\n",
              "      <th>HasOnlineTV</th>\n",
              "      <th>HasMovieSubscription</th>\n",
              "      <th>HasContractPhone</th>\n",
              "      <th>IsBillingPaperless</th>\n",
              "      <th>PaymentMethod</th>\n",
              "      <th>Churn</th>\n",
              "    </tr>\n",
              "  </thead>\n",
              "  <tbody>\n",
              "    <tr>\n",
              "      <th>1048</th>\n",
              "      <td>0</td>\n",
              "      <td>25.75</td>\n",
              "      <td>None</td>\n",
              "      <td>Male</td>\n",
              "      <td>0</td>\n",
              "      <td>Yes</td>\n",
              "      <td>Yes</td>\n",
              "      <td>Yes</td>\n",
              "      <td>Yes</td>\n",
              "      <td>No</td>\n",
              "      <td>No internet service</td>\n",
              "      <td>No internet service</td>\n",
              "      <td>No internet service</td>\n",
              "      <td>No internet service</td>\n",
              "      <td>No internet service</td>\n",
              "      <td>No internet service</td>\n",
              "      <td>Two year</td>\n",
              "      <td>No</td>\n",
              "      <td>Mailed check</td>\n",
              "      <td>0</td>\n",
              "    </tr>\n",
              "    <tr>\n",
              "      <th>1707</th>\n",
              "      <td>0</td>\n",
              "      <td>73.35</td>\n",
              "      <td>None</td>\n",
              "      <td>Female</td>\n",
              "      <td>0</td>\n",
              "      <td>Yes</td>\n",
              "      <td>Yes</td>\n",
              "      <td>Yes</td>\n",
              "      <td>Yes</td>\n",
              "      <td>DSL</td>\n",
              "      <td>No</td>\n",
              "      <td>Yes</td>\n",
              "      <td>Yes</td>\n",
              "      <td>Yes</td>\n",
              "      <td>Yes</td>\n",
              "      <td>No</td>\n",
              "      <td>Two year</td>\n",
              "      <td>No</td>\n",
              "      <td>Mailed check</td>\n",
              "      <td>0</td>\n",
              "    </tr>\n",
              "    <tr>\n",
              "      <th>2543</th>\n",
              "      <td>0</td>\n",
              "      <td>19.70</td>\n",
              "      <td>None</td>\n",
              "      <td>Male</td>\n",
              "      <td>0</td>\n",
              "      <td>Yes</td>\n",
              "      <td>Yes</td>\n",
              "      <td>Yes</td>\n",
              "      <td>No</td>\n",
              "      <td>No</td>\n",
              "      <td>No internet service</td>\n",
              "      <td>No internet service</td>\n",
              "      <td>No internet service</td>\n",
              "      <td>No internet service</td>\n",
              "      <td>No internet service</td>\n",
              "      <td>No internet service</td>\n",
              "      <td>One year</td>\n",
              "      <td>Yes</td>\n",
              "      <td>Mailed check</td>\n",
              "      <td>0</td>\n",
              "    </tr>\n",
              "    <tr>\n",
              "      <th>3078</th>\n",
              "      <td>0</td>\n",
              "      <td>80.85</td>\n",
              "      <td>None</td>\n",
              "      <td>Female</td>\n",
              "      <td>0</td>\n",
              "      <td>Yes</td>\n",
              "      <td>Yes</td>\n",
              "      <td>Yes</td>\n",
              "      <td>No</td>\n",
              "      <td>DSL</td>\n",
              "      <td>Yes</td>\n",
              "      <td>Yes</td>\n",
              "      <td>Yes</td>\n",
              "      <td>No</td>\n",
              "      <td>Yes</td>\n",
              "      <td>Yes</td>\n",
              "      <td>Two year</td>\n",
              "      <td>No</td>\n",
              "      <td>Mailed check</td>\n",
              "      <td>0</td>\n",
              "    </tr>\n",
              "    <tr>\n",
              "      <th>3697</th>\n",
              "      <td>0</td>\n",
              "      <td>20.00</td>\n",
              "      <td>None</td>\n",
              "      <td>Female</td>\n",
              "      <td>0</td>\n",
              "      <td>Yes</td>\n",
              "      <td>Yes</td>\n",
              "      <td>Yes</td>\n",
              "      <td>No</td>\n",
              "      <td>No</td>\n",
              "      <td>No internet service</td>\n",
              "      <td>No internet service</td>\n",
              "      <td>No internet service</td>\n",
              "      <td>No internet service</td>\n",
              "      <td>No internet service</td>\n",
              "      <td>No internet service</td>\n",
              "      <td>Two year</td>\n",
              "      <td>No</td>\n",
              "      <td>Mailed check</td>\n",
              "      <td>0</td>\n",
              "    </tr>\n",
              "    <tr>\n",
              "      <th>4002</th>\n",
              "      <td>0</td>\n",
              "      <td>61.90</td>\n",
              "      <td>None</td>\n",
              "      <td>Male</td>\n",
              "      <td>0</td>\n",
              "      <td>No</td>\n",
              "      <td>Yes</td>\n",
              "      <td>Yes</td>\n",
              "      <td>Yes</td>\n",
              "      <td>DSL</td>\n",
              "      <td>Yes</td>\n",
              "      <td>Yes</td>\n",
              "      <td>No</td>\n",
              "      <td>Yes</td>\n",
              "      <td>No</td>\n",
              "      <td>No</td>\n",
              "      <td>Two year</td>\n",
              "      <td>Yes</td>\n",
              "      <td>Bank transfer (automatic)</td>\n",
              "      <td>0</td>\n",
              "    </tr>\n",
              "    <tr>\n",
              "      <th>4326</th>\n",
              "      <td>0</td>\n",
              "      <td>25.35</td>\n",
              "      <td>None</td>\n",
              "      <td>Male</td>\n",
              "      <td>0</td>\n",
              "      <td>Yes</td>\n",
              "      <td>Yes</td>\n",
              "      <td>Yes</td>\n",
              "      <td>Yes</td>\n",
              "      <td>No</td>\n",
              "      <td>No internet service</td>\n",
              "      <td>No internet service</td>\n",
              "      <td>No internet service</td>\n",
              "      <td>No internet service</td>\n",
              "      <td>No internet service</td>\n",
              "      <td>No internet service</td>\n",
              "      <td>Two year</td>\n",
              "      <td>No</td>\n",
              "      <td>Mailed check</td>\n",
              "      <td>0</td>\n",
              "    </tr>\n",
              "    <tr>\n",
              "      <th>4551</th>\n",
              "      <td>0</td>\n",
              "      <td>52.55</td>\n",
              "      <td>None</td>\n",
              "      <td>Female</td>\n",
              "      <td>0</td>\n",
              "      <td>Yes</td>\n",
              "      <td>Yes</td>\n",
              "      <td>No</td>\n",
              "      <td>No phone service</td>\n",
              "      <td>DSL</td>\n",
              "      <td>Yes</td>\n",
              "      <td>No</td>\n",
              "      <td>Yes</td>\n",
              "      <td>Yes</td>\n",
              "      <td>Yes</td>\n",
              "      <td>No</td>\n",
              "      <td>Two year</td>\n",
              "      <td>Yes</td>\n",
              "      <td>Bank transfer (automatic)</td>\n",
              "      <td>0</td>\n",
              "    </tr>\n",
              "    <tr>\n",
              "      <th>4598</th>\n",
              "      <td>0</td>\n",
              "      <td>56.05</td>\n",
              "      <td>None</td>\n",
              "      <td>Female</td>\n",
              "      <td>0</td>\n",
              "      <td>Yes</td>\n",
              "      <td>Yes</td>\n",
              "      <td>No</td>\n",
              "      <td>No phone service</td>\n",
              "      <td>DSL</td>\n",
              "      <td>Yes</td>\n",
              "      <td>Yes</td>\n",
              "      <td>Yes</td>\n",
              "      <td>Yes</td>\n",
              "      <td>Yes</td>\n",
              "      <td>No</td>\n",
              "      <td>Two year</td>\n",
              "      <td>No</td>\n",
              "      <td>Credit card (automatic)</td>\n",
              "      <td>0</td>\n",
              "    </tr>\n",
              "  </tbody>\n",
              "</table>\n",
              "</div>\n",
              "      <button class=\"colab-df-convert\" onclick=\"convertToInteractive('df-e246e712-3b7a-408e-abca-b2606f7c7574')\"\n",
              "              title=\"Convert this dataframe to an interactive table.\"\n",
              "              style=\"display:none;\">\n",
              "        \n",
              "  <svg xmlns=\"http://www.w3.org/2000/svg\" height=\"24px\"viewBox=\"0 0 24 24\"\n",
              "       width=\"24px\">\n",
              "    <path d=\"M0 0h24v24H0V0z\" fill=\"none\"/>\n",
              "    <path d=\"M18.56 5.44l.94 2.06.94-2.06 2.06-.94-2.06-.94-.94-2.06-.94 2.06-2.06.94zm-11 1L8.5 8.5l.94-2.06 2.06-.94-2.06-.94L8.5 2.5l-.94 2.06-2.06.94zm10 10l.94 2.06.94-2.06 2.06-.94-2.06-.94-.94-2.06-.94 2.06-2.06.94z\"/><path d=\"M17.41 7.96l-1.37-1.37c-.4-.4-.92-.59-1.43-.59-.52 0-1.04.2-1.43.59L10.3 9.45l-7.72 7.72c-.78.78-.78 2.05 0 2.83L4 21.41c.39.39.9.59 1.41.59.51 0 1.02-.2 1.41-.59l7.78-7.78 2.81-2.81c.8-.78.8-2.07 0-2.86zM5.41 20L4 18.59l7.72-7.72 1.47 1.35L5.41 20z\"/>\n",
              "  </svg>\n",
              "      </button>\n",
              "      \n",
              "  <style>\n",
              "    .colab-df-container {\n",
              "      display:flex;\n",
              "      flex-wrap:wrap;\n",
              "      gap: 12px;\n",
              "    }\n",
              "\n",
              "    .colab-df-convert {\n",
              "      background-color: #E8F0FE;\n",
              "      border: none;\n",
              "      border-radius: 50%;\n",
              "      cursor: pointer;\n",
              "      display: none;\n",
              "      fill: #1967D2;\n",
              "      height: 32px;\n",
              "      padding: 0 0 0 0;\n",
              "      width: 32px;\n",
              "    }\n",
              "\n",
              "    .colab-df-convert:hover {\n",
              "      background-color: #E2EBFA;\n",
              "      box-shadow: 0px 1px 2px rgba(60, 64, 67, 0.3), 0px 1px 3px 1px rgba(60, 64, 67, 0.15);\n",
              "      fill: #174EA6;\n",
              "    }\n",
              "\n",
              "    [theme=dark] .colab-df-convert {\n",
              "      background-color: #3B4455;\n",
              "      fill: #D2E3FC;\n",
              "    }\n",
              "\n",
              "    [theme=dark] .colab-df-convert:hover {\n",
              "      background-color: #434B5C;\n",
              "      box-shadow: 0px 1px 3px 1px rgba(0, 0, 0, 0.15);\n",
              "      filter: drop-shadow(0px 1px 2px rgba(0, 0, 0, 0.3));\n",
              "      fill: #FFFFFF;\n",
              "    }\n",
              "  </style>\n",
              "\n",
              "      <script>\n",
              "        const buttonEl =\n",
              "          document.querySelector('#df-e246e712-3b7a-408e-abca-b2606f7c7574 button.colab-df-convert');\n",
              "        buttonEl.style.display =\n",
              "          google.colab.kernel.accessAllowed ? 'block' : 'none';\n",
              "\n",
              "        async function convertToInteractive(key) {\n",
              "          const element = document.querySelector('#df-e246e712-3b7a-408e-abca-b2606f7c7574');\n",
              "          const dataTable =\n",
              "            await google.colab.kernel.invokeFunction('convertToInteractive',\n",
              "                                                     [key], {});\n",
              "          if (!dataTable) return;\n",
              "\n",
              "          const docLinkHtml = 'Like what you see? Visit the ' +\n",
              "            '<a target=\"_blank\" href=https://colab.research.google.com/notebooks/data_table.ipynb>data table notebook</a>'\n",
              "            + ' to learn more about interactive tables.';\n",
              "          element.innerHTML = '';\n",
              "          dataTable['output_type'] = 'display_data';\n",
              "          await google.colab.output.renderOutput(dataTable, element);\n",
              "          const docLink = document.createElement('div');\n",
              "          docLink.innerHTML = docLinkHtml;\n",
              "          element.appendChild(docLink);\n",
              "        }\n",
              "      </script>\n",
              "    </div>\n",
              "  </div>\n",
              "  "
            ]
          },
          "metadata": {},
          "execution_count": 121
        }
      ]
    },
    {
      "cell_type": "code",
      "source": [
        "data['TotalSpent'].fillna(data['MonthlySpending'], inplace=True)\n",
        "\n",
        "data[data.isna().any(axis=1)]\n"
      ],
      "metadata": {
        "id": "b42K0GwkwL0M",
        "colab": {
          "base_uri": "https://localhost:8080/",
          "height": 113
        },
        "outputId": "71606ee7-8d43-4b4d-e907-385a28092964"
      },
      "execution_count": null,
      "outputs": [
        {
          "output_type": "execute_result",
          "data": {
            "text/plain": [
              "Empty DataFrame\n",
              "Columns: [ClientPeriod, MonthlySpending, TotalSpent, Sex, IsSeniorCitizen, HasPartner, HasChild, HasPhoneService, HasMultiplePhoneNumbers, HasInternetService, HasOnlineSecurityService, HasOnlineBackup, HasDeviceProtection, HasTechSupportAccess, HasOnlineTV, HasMovieSubscription, HasContractPhone, IsBillingPaperless, PaymentMethod, Churn]\n",
              "Index: []"
            ],
            "text/html": [
              "\n",
              "  <div id=\"df-e056370d-6fd6-47ae-8a1a-18f9cf1b6287\">\n",
              "    <div class=\"colab-df-container\">\n",
              "      <div>\n",
              "<style scoped>\n",
              "    .dataframe tbody tr th:only-of-type {\n",
              "        vertical-align: middle;\n",
              "    }\n",
              "\n",
              "    .dataframe tbody tr th {\n",
              "        vertical-align: top;\n",
              "    }\n",
              "\n",
              "    .dataframe thead th {\n",
              "        text-align: right;\n",
              "    }\n",
              "</style>\n",
              "<table border=\"1\" class=\"dataframe\">\n",
              "  <thead>\n",
              "    <tr style=\"text-align: right;\">\n",
              "      <th></th>\n",
              "      <th>ClientPeriod</th>\n",
              "      <th>MonthlySpending</th>\n",
              "      <th>TotalSpent</th>\n",
              "      <th>Sex</th>\n",
              "      <th>IsSeniorCitizen</th>\n",
              "      <th>HasPartner</th>\n",
              "      <th>HasChild</th>\n",
              "      <th>HasPhoneService</th>\n",
              "      <th>HasMultiplePhoneNumbers</th>\n",
              "      <th>HasInternetService</th>\n",
              "      <th>HasOnlineSecurityService</th>\n",
              "      <th>HasOnlineBackup</th>\n",
              "      <th>HasDeviceProtection</th>\n",
              "      <th>HasTechSupportAccess</th>\n",
              "      <th>HasOnlineTV</th>\n",
              "      <th>HasMovieSubscription</th>\n",
              "      <th>HasContractPhone</th>\n",
              "      <th>IsBillingPaperless</th>\n",
              "      <th>PaymentMethod</th>\n",
              "      <th>Churn</th>\n",
              "    </tr>\n",
              "  </thead>\n",
              "  <tbody>\n",
              "  </tbody>\n",
              "</table>\n",
              "</div>\n",
              "      <button class=\"colab-df-convert\" onclick=\"convertToInteractive('df-e056370d-6fd6-47ae-8a1a-18f9cf1b6287')\"\n",
              "              title=\"Convert this dataframe to an interactive table.\"\n",
              "              style=\"display:none;\">\n",
              "        \n",
              "  <svg xmlns=\"http://www.w3.org/2000/svg\" height=\"24px\"viewBox=\"0 0 24 24\"\n",
              "       width=\"24px\">\n",
              "    <path d=\"M0 0h24v24H0V0z\" fill=\"none\"/>\n",
              "    <path d=\"M18.56 5.44l.94 2.06.94-2.06 2.06-.94-2.06-.94-.94-2.06-.94 2.06-2.06.94zm-11 1L8.5 8.5l.94-2.06 2.06-.94-2.06-.94L8.5 2.5l-.94 2.06-2.06.94zm10 10l.94 2.06.94-2.06 2.06-.94-2.06-.94-.94-2.06-.94 2.06-2.06.94z\"/><path d=\"M17.41 7.96l-1.37-1.37c-.4-.4-.92-.59-1.43-.59-.52 0-1.04.2-1.43.59L10.3 9.45l-7.72 7.72c-.78.78-.78 2.05 0 2.83L4 21.41c.39.39.9.59 1.41.59.51 0 1.02-.2 1.41-.59l7.78-7.78 2.81-2.81c.8-.78.8-2.07 0-2.86zM5.41 20L4 18.59l7.72-7.72 1.47 1.35L5.41 20z\"/>\n",
              "  </svg>\n",
              "      </button>\n",
              "      \n",
              "  <style>\n",
              "    .colab-df-container {\n",
              "      display:flex;\n",
              "      flex-wrap:wrap;\n",
              "      gap: 12px;\n",
              "    }\n",
              "\n",
              "    .colab-df-convert {\n",
              "      background-color: #E8F0FE;\n",
              "      border: none;\n",
              "      border-radius: 50%;\n",
              "      cursor: pointer;\n",
              "      display: none;\n",
              "      fill: #1967D2;\n",
              "      height: 32px;\n",
              "      padding: 0 0 0 0;\n",
              "      width: 32px;\n",
              "    }\n",
              "\n",
              "    .colab-df-convert:hover {\n",
              "      background-color: #E2EBFA;\n",
              "      box-shadow: 0px 1px 2px rgba(60, 64, 67, 0.3), 0px 1px 3px 1px rgba(60, 64, 67, 0.15);\n",
              "      fill: #174EA6;\n",
              "    }\n",
              "\n",
              "    [theme=dark] .colab-df-convert {\n",
              "      background-color: #3B4455;\n",
              "      fill: #D2E3FC;\n",
              "    }\n",
              "\n",
              "    [theme=dark] .colab-df-convert:hover {\n",
              "      background-color: #434B5C;\n",
              "      box-shadow: 0px 1px 3px 1px rgba(0, 0, 0, 0.15);\n",
              "      filter: drop-shadow(0px 1px 2px rgba(0, 0, 0, 0.3));\n",
              "      fill: #FFFFFF;\n",
              "    }\n",
              "  </style>\n",
              "\n",
              "      <script>\n",
              "        const buttonEl =\n",
              "          document.querySelector('#df-e056370d-6fd6-47ae-8a1a-18f9cf1b6287 button.colab-df-convert');\n",
              "        buttonEl.style.display =\n",
              "          google.colab.kernel.accessAllowed ? 'block' : 'none';\n",
              "\n",
              "        async function convertToInteractive(key) {\n",
              "          const element = document.querySelector('#df-e056370d-6fd6-47ae-8a1a-18f9cf1b6287');\n",
              "          const dataTable =\n",
              "            await google.colab.kernel.invokeFunction('convertToInteractive',\n",
              "                                                     [key], {});\n",
              "          if (!dataTable) return;\n",
              "\n",
              "          const docLinkHtml = 'Like what you see? Visit the ' +\n",
              "            '<a target=\"_blank\" href=https://colab.research.google.com/notebooks/data_table.ipynb>data table notebook</a>'\n",
              "            + ' to learn more about interactive tables.';\n",
              "          element.innerHTML = '';\n",
              "          dataTable['output_type'] = 'display_data';\n",
              "          await google.colab.output.renderOutput(dataTable, element);\n",
              "          const docLink = document.createElement('div');\n",
              "          docLink.innerHTML = docLinkHtml;\n",
              "          element.appendChild(docLink);\n",
              "        }\n",
              "      </script>\n",
              "    </div>\n",
              "  </div>\n",
              "  "
            ]
          },
          "metadata": {},
          "execution_count": 122
        }
      ]
    },
    {
      "cell_type": "markdown",
      "source": [
        "Все численный колонки преобразуем во float"
      ],
      "metadata": {
        "id": "iGG7qB_BSmB0"
      }
    },
    {
      "cell_type": "code",
      "source": [
        "for col in num_cols:\n",
        "    data[col] = data[col].apply(float)"
      ],
      "metadata": {
        "id": "1adl1uRaxjfu"
      },
      "execution_count": null,
      "outputs": []
    },
    {
      "cell_type": "markdown",
      "metadata": {
        "id": "dK370bPCEEZD"
      },
      "source": [
        "\n",
        "## Анализ данных"
      ]
    },
    {
      "cell_type": "code",
      "metadata": {
        "id": "NZkbgFJZEEZE",
        "colab": {
          "base_uri": "https://localhost:8080/",
          "height": 1000
        },
        "outputId": "7c333d7b-3036-4da9-e267-c9b1e7155a6f"
      },
      "source": [
        "import seaborn as sns\n",
        "\n",
        "\n",
        "fig, axis = plt.subplots(len(num_cols), figsize=(50, 50))\n",
        "\n",
        "for index, colname in enumerate(num_cols):\n",
        "  sns.histplot(data[colname], ax = axis[index], kde=True).set(title=colname)\n"
      ],
      "execution_count": null,
      "outputs": [
        {
          "output_type": "display_data",
          "data": {
            "text/plain": [
              "<Figure size 3600x3600 with 3 Axes>"
            ],
            "image/png": "[encoded data removed]"
          },
          "metadata": {
            "needs_background": "light"
          }
        }
      ]
    },
    {
      "cell_type": "code",
      "source": [
        "fig, axis = plt.subplots(4, 4, figsize=(20, 20))\n",
        "\n",
        "for index, colname in enumerate(cat_cols):\n",
        "  sns.countplot(data[colname], ax=axis[index//4][index%4])\n",
        "\n",
        "None"
      ],
      "metadata": {
        "colab": {
          "base_uri": "https://localhost:8080/",
          "height": 1000
        },
        "id": "Ql3wXIB49H6C",
        "outputId": "d94050f0-ee70-4009-e435-569eca5b8870"
      },
      "execution_count": null,
      "outputs": [
        {
          "output_type": "stream",
          "name": "stderr",
          "text": [
            "/usr/local/lib/python3.7/dist-packages/seaborn/_decorators.py:43: FutureWarning: Pass the following variable as a keyword arg: x. From version 0.12, the only valid positional argument will be `data`, and passing other arguments without an explicit keyword will result in an error or misinterpretation.\n",
            "  FutureWarning\n",
            "/usr/local/lib/python3.7/dist-packages/seaborn/_decorators.py:43: FutureWarning: Pass the following variable as a keyword arg: x. From version 0.12, the only valid positional argument will be `data`, and passing other arguments without an explicit keyword will result in an error or misinterpretation.\n",
            "  FutureWarning\n",
            "/usr/local/lib/python3.7/dist-packages/seaborn/_decorators.py:43: FutureWarning: Pass the following variable as a keyword arg: x. From version 0.12, the only valid positional argument will be `data`, and passing other arguments without an explicit keyword will result in an error or misinterpretation.\n",
            "  FutureWarning\n",
            "/usr/local/lib/python3.7/dist-packages/seaborn/_decorators.py:43: FutureWarning: Pass the following variable as a keyword arg: x. From version 0.12, the only valid positional argument will be `data`, and passing other arguments without an explicit keyword will result in an error or misinterpretation.\n",
            "  FutureWarning\n",
            "/usr/local/lib/python3.7/dist-packages/seaborn/_decorators.py:43: FutureWarning: Pass the following variable as a keyword arg: x. From version 0.12, the only valid positional argument will be `data`, and passing other arguments without an explicit keyword will result in an error or misinterpretation.\n",
            "  FutureWarning\n",
            "/usr/local/lib/python3.7/dist-packages/seaborn/_decorators.py:43: FutureWarning: Pass the following variable as a keyword arg: x. From version 0.12, the only valid positional argument will be `data`, and passing other arguments without an explicit keyword will result in an error or misinterpretation.\n",
            "  FutureWarning\n",
            "/usr/local/lib/python3.7/dist-packages/seaborn/_decorators.py:43: FutureWarning: Pass the following variable as a keyword arg: x. From version 0.12, the only valid positional argument will be `data`, and passing other arguments without an explicit keyword will result in an error or misinterpretation.\n",
            "  FutureWarning\n",
            "/usr/local/lib/python3.7/dist-packages/seaborn/_decorators.py:43: FutureWarning: Pass the following variable as a keyword arg: x. From version 0.12, the only valid positional argument will be `data`, and passing other arguments without an explicit keyword will result in an error or misinterpretation.\n",
            "  FutureWarning\n",
            "/usr/local/lib/python3.7/dist-packages/seaborn/_decorators.py:43: FutureWarning: Pass the following variable as a keyword arg: x. From version 0.12, the only valid positional argument will be `data`, and passing other arguments without an explicit keyword will result in an error or misinterpretation.\n",
            "  FutureWarning\n",
            "/usr/local/lib/python3.7/dist-packages/seaborn/_decorators.py:43: FutureWarning: Pass the following variable as a keyword arg: x. From version 0.12, the only valid positional argument will be `data`, and passing other arguments without an explicit keyword will result in an error or misinterpretation.\n",
            "  FutureWarning\n",
            "/usr/local/lib/python3.7/dist-packages/seaborn/_decorators.py:43: FutureWarning: Pass the following variable as a keyword arg: x. From version 0.12, the only valid positional argument will be `data`, and passing other arguments without an explicit keyword will result in an error or misinterpretation.\n",
            "  FutureWarning\n",
            "/usr/local/lib/python3.7/dist-packages/seaborn/_decorators.py:43: FutureWarning: Pass the following variable as a keyword arg: x. From version 0.12, the only valid positional argument will be `data`, and passing other arguments without an explicit keyword will result in an error or misinterpretation.\n",
            "  FutureWarning\n",
            "/usr/local/lib/python3.7/dist-packages/seaborn/_decorators.py:43: FutureWarning: Pass the following variable as a keyword arg: x. From version 0.12, the only valid positional argument will be `data`, and passing other arguments without an explicit keyword will result in an error or misinterpretation.\n",
            "  FutureWarning\n",
            "/usr/local/lib/python3.7/dist-packages/seaborn/_decorators.py:43: FutureWarning: Pass the following variable as a keyword arg: x. From version 0.12, the only valid positional argument will be `data`, and passing other arguments without an explicit keyword will result in an error or misinterpretation.\n",
            "  FutureWarning\n",
            "/usr/local/lib/python3.7/dist-packages/seaborn/_decorators.py:43: FutureWarning: Pass the following variable as a keyword arg: x. From version 0.12, the only valid positional argument will be `data`, and passing other arguments without an explicit keyword will result in an error or misinterpretation.\n",
            "  FutureWarning\n",
            "/usr/local/lib/python3.7/dist-packages/seaborn/_decorators.py:43: FutureWarning: Pass the following variable as a keyword arg: x. From version 0.12, the only valid positional argument will be `data`, and passing other arguments without an explicit keyword will result in an error or misinterpretation.\n",
            "  FutureWarning\n"
          ]
        },
        {
          "output_type": "display_data",
          "data": {
            "text/plain": [
              "<Figure size 1440x1440 with 16 Axes>"
            ],
            "image/png": "[encoded data removed]"
          },
          "metadata": {
            "needs_background": "light"
          }
        }
      ]
    },
    {
      "cell_type": "code",
      "metadata": {
        "id": "fwfksF1gEEZI",
        "colab": {
          "base_uri": "https://localhost:8080/",
          "height": 279
        },
        "outputId": "13d66a38-6441-4801-e610-37a818645e42"
      },
      "source": [
        "sns.barplot(data=data, x='Sex', y='IsSeniorCitizen');\n"
      ],
      "execution_count": null,
      "outputs": [
        {
          "output_type": "display_data",
          "data": {
            "text/plain": [
              "<Figure size 432x288 with 1 Axes>"
            ],
            "image/png": "[encoded data removed]"
          },
          "metadata": {
            "needs_background": "light"
          }
        }
      ]
    },
    {
      "cell_type": "code",
      "source": [
        "counts = data[target_col].value_counts().values\n",
        "indexes = [0, 1]\n",
        "\n",
        "plt.xticks(indexes)\n",
        "plt.bar(indexes, counts)"
      ],
      "metadata": {
        "colab": {
          "base_uri": "https://localhost:8080/",
          "height": 282
        },
        "id": "EBRZ16nxTut7",
        "outputId": "95408367-eecb-4107-c28c-5afd69256be5"
      },
      "execution_count": null,
      "outputs": [
        {
          "output_type": "execute_result",
          "data": {
            "text/plain": [
              "<BarContainer object of 2 artists>"
            ]
          },
          "metadata": {},
          "execution_count": 127
        },
        {
          "output_type": "display_data",
          "data": {
            "text/plain": [
              "<Figure size 432x288 with 1 Axes>"
            ],
            "image/png": "[encoded data removed]"
          },
          "metadata": {
            "needs_background": "light"
          }
        }
      ]
    },
    {
      "cell_type": "markdown",
      "source": [
        "# Oversampling. Избавимся от "
      ],
      "metadata": {
        "id": "Pf_WskntT8DV"
      }
    },
    {
      "cell_type": "code",
      "source": [
        "from imblearn.over_sampling import RandomOverSampler\n",
        "\n",
        "X = data[feature_cols]\n",
        "y = data[target_col]\n",
        "X_resampled, y_resampled = RandomOverSampler().fit_resample(X, y)\n",
        "data = pd.concat([X_resampled, y_resampled], axis=1)"
      ],
      "metadata": {
        "id": "J4955j8gT7I9"
      },
      "execution_count": null,
      "outputs": []
    },
    {
      "cell_type": "markdown",
      "metadata": {
        "id": "DviiJd8REEZK"
      },
      "source": [
        "## Применение линейных моделей"
      ]
    },
    {
      "cell_type": "code",
      "metadata": {
        "id": "xHCLDmwqEEZL"
      },
      "source": [
        "from sklearn.linear_model import LogisticRegression, LogisticRegressionCV\n",
        "from sklearn.model_selection import train_test_split, GridSearchCV\n",
        "from sklearn.preprocessing import StandardScaler, RobustScaler, LabelEncoder, OneHotEncoder\n",
        "from sklearn.pipeline import make_pipeline"
      ],
      "execution_count": null,
      "outputs": []
    },
    {
      "cell_type": "markdown",
      "source": [
        "Заменим категориальные фичи\n"
      ],
      "metadata": {
        "id": "VyqCaMQjR-XF"
      }
    },
    {
      "cell_type": "code",
      "source": [
        "dm = pd.get_dummies(data[cat_cols], drop_first=True)\n",
        "\n",
        "X = pd.concat([data[num_cols], dm], axis=1).copy()\n",
        "\n",
        "y = data['Churn'].copy()\n",
        "\n",
        "X.info()"
      ],
      "metadata": {
        "colab": {
          "base_uri": "https://localhost:8080/"
        },
        "id": "Kbo-4FwDSCN7",
        "outputId": "6c072fa2-7f15-40d5-e259-bd06573a397a"
      },
      "execution_count": null,
      "outputs": [
        {
          "output_type": "stream",
          "name": "stdout",
          "text": [
            "<class 'pandas.core.frame.DataFrame'>\n",
            "RangeIndex: 7796 entries, 0 to 7795\n",
            "Data columns (total 30 columns):\n",
            " #   Column                                        Non-Null Count  Dtype  \n",
            "---  ------                                        --------------  -----  \n",
            " 0   ClientPeriod                                  7796 non-null   float64\n",
            " 1   MonthlySpending                               7796 non-null   float64\n",
            " 2   TotalSpent                                    7796 non-null   float64\n",
            " 3   IsSeniorCitizen                               7796 non-null   int64  \n",
            " 4   Sex_Male                                      7796 non-null   uint8  \n",
            " 5   HasPartner_Yes                                7796 non-null   uint8  \n",
            " 6   HasChild_Yes                                  7796 non-null   uint8  \n",
            " 7   HasPhoneService_Yes                           7796 non-null   uint8  \n",
            " 8   HasMultiplePhoneNumbers_No phone service      7796 non-null   uint8  \n",
            " 9   HasMultiplePhoneNumbers_Yes                   7796 non-null   uint8  \n",
            " 10  HasInternetService_Fiber optic                7796 non-null   uint8  \n",
            " 11  HasInternetService_No                         7796 non-null   uint8  \n",
            " 12  HasOnlineSecurityService_No internet service  7796 non-null   uint8  \n",
            " 13  HasOnlineSecurityService_Yes                  7796 non-null   uint8  \n",
            " 14  HasOnlineBackup_No internet service           7796 non-null   uint8  \n",
            " 15  HasOnlineBackup_Yes                           7796 non-null   uint8  \n",
            " 16  HasDeviceProtection_No internet service       7796 non-null   uint8  \n",
            " 17  HasDeviceProtection_Yes                       7796 non-null   uint8  \n",
            " 18  HasTechSupportAccess_No internet service      7796 non-null   uint8  \n",
            " 19  HasTechSupportAccess_Yes                      7796 non-null   uint8  \n",
            " 20  HasOnlineTV_No internet service               7796 non-null   uint8  \n",
            " 21  HasOnlineTV_Yes                               7796 non-null   uint8  \n",
            " 22  HasMovieSubscription_No internet service      7796 non-null   uint8  \n",
            " 23  HasMovieSubscription_Yes                      7796 non-null   uint8  \n",
            " 24  HasContractPhone_One year                     7796 non-null   uint8  \n",
            " 25  HasContractPhone_Two year                     7796 non-null   uint8  \n",
            " 26  IsBillingPaperless_Yes                        7796 non-null   uint8  \n",
            " 27  PaymentMethod_Credit card (automatic)         7796 non-null   uint8  \n",
            " 28  PaymentMethod_Electronic check                7796 non-null   uint8  \n",
            " 29  PaymentMethod_Mailed check                    7796 non-null   uint8  \n",
            "dtypes: float64(3), int64(1), uint8(26)\n",
            "memory usage: 441.7 KB\n"
          ]
        }
      ]
    },
    {
      "cell_type": "code",
      "source": [
        "from sklearn.model_selection import train_test_split\n",
        "from sklearn.linear_model import LogisticRegression\n",
        "from sklearn.model_selection import GridSearchCV\n",
        "from sklearn.preprocessing import normalize\n",
        "\n",
        "\n",
        "X_train, X_test, y_train, y_test = train_test_split(X, y, train_size=0.8, random_state=42)"
      ],
      "metadata": {
        "id": "RemtSFcnYvy9"
      },
      "execution_count": null,
      "outputs": []
    },
    {
      "cell_type": "code",
      "source": [
        "scale = StandardScaler()\n",
        "\n",
        "X_train[num_cols] = scale.fit_transform(X_train[num_cols])\n",
        "X_test[num_cols] = scale.fit_transform(X_test[num_cols])"
      ],
      "metadata": {
        "id": "dEBtGEidWH81"
      },
      "execution_count": null,
      "outputs": []
    },
    {
      "cell_type": "markdown",
      "source": [
        "Попробуем обычную Лог регрессию"
      ],
      "metadata": {
        "id": "CZNZNgeK1jbT"
      }
    },
    {
      "cell_type": "code",
      "source": [
        "model = LogisticRegression(random_state=42)\n",
        "\n",
        "model.fit(X_train, y_train)\n",
        "pred = model.predict_proba(X_test)[:, 1]\n",
        "score = roc_auc_score(y_test, pred)\n",
        "\n",
        "score"
      ],
      "metadata": {
        "colab": {
          "base_uri": "https://localhost:8080/"
        },
        "id": "16hPsC2v-ENI",
        "outputId": "b083923e-4f83-4fc7-f526-2382ad29579f"
      },
      "execution_count": null,
      "outputs": [
        {
          "output_type": "execute_result",
          "data": {
            "text/plain": [
              "0.8379467368074962"
            ]
          },
          "metadata": {},
          "execution_count": 133
        }
      ]
    },
    {
      "cell_type": "markdown",
      "source": [
        "И с поиском по сетке"
      ],
      "metadata": {
        "id": "p2ftF3Gc1r88"
      }
    },
    {
      "cell_type": "code",
      "source": [
        "grids = [100, 10, 1, 0.1, 0.01, 0.001]\n",
        "param_names = 'C'\n",
        "\n",
        "\n",
        "model2 = GridSearchCV(estimator=LogisticRegression(random_state=42), \n",
        "                     param_grid={'C': grids}, cv=5, scoring='roc_auc', \n",
        "                     n_jobs=-1, verbose=10)\n",
        "\n",
        "model2.fit(X_train, y_train)\n",
        "pred = model2.predict_proba(X_test)[:, 1]\n",
        "score = roc_auc_score(y_test, pred)\n",
        "\n",
        "score"
      ],
      "metadata": {
        "colab": {
          "base_uri": "https://localhost:8080/"
        },
        "id": "pN8NjmsWAfn7",
        "outputId": "3059ffc7-3ccf-4d52-da9f-d6a8925958a1"
      },
      "execution_count": null,
      "outputs": [
        {
          "output_type": "stream",
          "name": "stdout",
          "text": [
            "Fitting 5 folds for each of 6 candidates, totalling 30 fits\n"
          ]
        },
        {
          "output_type": "execute_result",
          "data": {
            "text/plain": [
              "0.8377280946901199"
            ]
          },
          "metadata": {},
          "execution_count": 134
        }
      ]
    },
    {
      "cell_type": "markdown",
      "source": [
        "KNN"
      ],
      "metadata": {
        "id": "YsHMiRUX1JL9"
      }
    },
    {
      "cell_type": "code",
      "source": [
        "from sklearn.neighbors import KNeighborsClassifier"
      ],
      "metadata": {
        "id": "4qs8hZeS1KX1"
      },
      "execution_count": null,
      "outputs": []
    },
    {
      "cell_type": "code",
      "source": [
        "knn = KNeighborsClassifier()\n",
        "\n",
        "neigbots_grid = [2, 5, 10]\n",
        "\n",
        "knn_cv = GridSearchCV(estimator=knn, param_grid={'n_neighbors': neigbots_grid},\n",
        "                      cv=5, scoring='roc_auc', n_jobs=-1, verbose=2)\n",
        "\n",
        "knn_cv.fit(X_train, y_train)\n",
        "pred = knn_cv.predict_proba(X_test)[:, 1]\n",
        "score = roc_auc_score(y_test, pred)\n",
        "\n",
        "score"
      ],
      "metadata": {
        "colab": {
          "base_uri": "https://localhost:8080/"
        },
        "id": "HY943Cf72BmH",
        "outputId": "50a61626-00ef-408d-8567-556969d7c62c"
      },
      "execution_count": null,
      "outputs": [
        {
          "output_type": "stream",
          "name": "stdout",
          "text": [
            "Fitting 5 folds for each of 3 candidates, totalling 15 fits\n"
          ]
        },
        {
          "output_type": "execute_result",
          "data": {
            "text/plain": [
              "0.8478982409995068"
            ]
          },
          "metadata": {},
          "execution_count": 136
        }
      ]
    },
    {
      "cell_type": "markdown",
      "metadata": {
        "id": "uVahy6JKEEZQ"
      },
      "source": [
        "Лучшее качество показал KNN: 0.8486"
      ]
    },
    {
      "cell_type": "markdown",
      "metadata": {
        "id": "BlTeVy7fEEZR"
      },
      "source": [
        "## Применение градиентного бустинга "
      ]
    },
    {
      "cell_type": "code",
      "source": [
        "!pip install catboost"
      ],
      "metadata": {
        "colab": {
          "base_uri": "https://localhost:8080/"
        },
        "id": "zEYMXiU-O_B3",
        "outputId": "250b88a4-2893-4a77-f4f3-c2b981473ee4"
      },
      "execution_count": null,
      "outputs": [
        {
          "output_type": "stream",
          "name": "stdout",
          "text": [
            "Looking in indexes: https://pypi.org/simple, https://us-python.pkg.dev/colab-wheels/public/simple/\n",
            "Requirement already satisfied: catboost in /usr/local/lib/python3.7/dist-packages (1.1.1)\n",
            "Requirement already satisfied: pandas>=0.24.0 in /usr/local/lib/python3.7/dist-packages (from catboost) (1.3.5)\n",
            "Requirement already satisfied: numpy>=1.16.0 in /usr/local/lib/python3.7/dist-packages (from catboost) (1.21.6)\n",
            "Requirement already satisfied: matplotlib in /usr/local/lib/python3.7/dist-packages (from catboost) (3.2.2)\n",
            "Requirement already satisfied: graphviz in /usr/local/lib/python3.7/dist-packages (from catboost) (0.10.1)\n",
            "Requirement already satisfied: scipy in /usr/local/lib/python3.7/dist-packages (from catboost) (1.7.3)\n",
            "Requirement already satisfied: six in /usr/local/lib/python3.7/dist-packages (from catboost) (1.15.0)\n",
            "Requirement already satisfied: plotly in /usr/local/lib/python3.7/dist-packages (from catboost) (5.5.0)\n",
            "Requirement already satisfied: python-dateutil>=2.7.3 in /usr/local/lib/python3.7/dist-packages (from pandas>=0.24.0->catboost) (2.8.2)\n",
            "Requirement already satisfied: pytz>=2017.3 in /usr/local/lib/python3.7/dist-packages (from pandas>=0.24.0->catboost) (2022.5)\n",
            "Requirement already satisfied: pyparsing!=2.0.4,!=2.1.2,!=2.1.6,>=2.0.1 in /usr/local/lib/python3.7/dist-packages (from matplotlib->catboost) (3.0.9)\n",
            "Requirement already satisfied: cycler>=0.10 in /usr/local/lib/python3.7/dist-packages (from matplotlib->catboost) (0.11.0)\n",
            "Requirement already satisfied: kiwisolver>=1.0.1 in /usr/local/lib/python3.7/dist-packages (from matplotlib->catboost) (1.4.4)\n",
            "Requirement already satisfied: typing-extensions in /usr/local/lib/python3.7/dist-packages (from kiwisolver>=1.0.1->matplotlib->catboost) (4.1.1)\n",
            "Requirement already satisfied: tenacity>=6.2.0 in /usr/local/lib/python3.7/dist-packages (from plotly->catboost) (8.1.0)\n"
          ]
        }
      ]
    },
    {
      "cell_type": "code",
      "metadata": {
        "id": "Fioxxlp-EEZS"
      },
      "source": [
        "from catboost import CatBoostClassifier, Pool"
      ],
      "execution_count": null,
      "outputs": []
    },
    {
      "cell_type": "code",
      "source": [
        "X = data[feature_cols]\n",
        "y = data[target_col]\n",
        "\n",
        "X_train, X_test, y_train, y_test = train_test_split(X, y, train_size=0.8, random_state=42)\n",
        "\n",
        "n_estimators = [200, 300, 400, 500]\n",
        "lrs = [0.1]\n",
        "max_depth = [3, 4, 6]\n",
        "\n",
        "CB_classifier = CatBoostClassifier(loss_function='Logloss', \n",
        "                                   cat_features=cat_cols, \n",
        "                                   bootstrap_type = 'Bayesian',\n",
        "                                   silent=True, task_type='GPU')\n",
        "\n",
        "grid = {'n_estimators': n_estimators,\n",
        "        'learning_rate': lrs,\n",
        "        'max_depth': max_depth\n",
        "        }\n",
        "\n",
        "GridSearch_m = GridSearchCV(estimator=CB_classifier, param_grid = grid, cv = 5, scoring='roc_auc')\n",
        "GridSearch_m.fit(X_train, y_train)\n"
      ],
      "metadata": {
        "colab": {
          "base_uri": "https://localhost:8080/"
        },
        "id": "UcKRXP_jNxGK",
        "outputId": "cc515f3c-17c3-4208-e59e-a1120a6faf64"
      },
      "execution_count": null,
      "outputs": [
        {
          "output_type": "execute_result",
          "data": {
            "text/plain": [
              "GridSearchCV(cv=5,\n",
              "             estimator=<catboost.core.CatBoostClassifier object at 0x7ff30e6c4d50>,\n",
              "             param_grid={'learning_rate': [0.1], 'max_depth': [3, 4, 6],\n",
              "                         'n_estimators': [200, 300, 400, 500]},\n",
              "             scoring='roc_auc')"
            ]
          },
          "metadata": {},
          "execution_count": 139
        }
      ]
    },
    {
      "cell_type": "code",
      "source": [
        "model3 = GridSearch_m.best_estimator_\n",
        "roc_auc_score(y_test, model3.predict_proba(X_test)[:, 1])\n"
      ],
      "metadata": {
        "colab": {
          "base_uri": "https://localhost:8080/"
        },
        "id": "HSlRg_mbPUv4",
        "outputId": "6960f71c-b5b6-4d7d-d82b-ffabedd2857c"
      },
      "execution_count": null,
      "outputs": [
        {
          "output_type": "execute_result",
          "data": {
            "text/plain": [
              "0.903102087785632"
            ]
          },
          "metadata": {},
          "execution_count": 140
        }
      ]
    },
    {
      "cell_type": "code",
      "source": [
        "model3.get_params()"
      ],
      "metadata": {
        "colab": {
          "base_uri": "https://localhost:8080/"
        },
        "id": "Uovlzx9iURA6",
        "outputId": "b7a68937-d8fe-467b-b7ec-cf56e7028900"
      },
      "execution_count": null,
      "outputs": [
        {
          "output_type": "execute_result",
          "data": {
            "text/plain": [
              "{'learning_rate': 0.1,\n",
              " 'loss_function': 'Logloss',\n",
              " 'silent': True,\n",
              " 'task_type': 'GPU',\n",
              " 'bootstrap_type': 'Bayesian',\n",
              " 'max_depth': 6,\n",
              " 'n_estimators': 400,\n",
              " 'cat_features': ['Sex',\n",
              "  'IsSeniorCitizen',\n",
              "  'HasPartner',\n",
              "  'HasChild',\n",
              "  'HasPhoneService',\n",
              "  'HasMultiplePhoneNumbers',\n",
              "  'HasInternetService',\n",
              "  'HasOnlineSecurityService',\n",
              "  'HasOnlineBackup',\n",
              "  'HasDeviceProtection',\n",
              "  'HasTechSupportAccess',\n",
              "  'HasOnlineTV',\n",
              "  'HasMovieSubscription',\n",
              "  'HasContractPhone',\n",
              "  'IsBillingPaperless',\n",
              "  'PaymentMethod']}"
            ]
          },
          "metadata": {},
          "execution_count": 141
        }
      ]
    },
    {
      "cell_type": "markdown",
      "metadata": {
        "id": "rf4Kjt96EEZU"
      },
      "source": [
        "Лушчее качество: 0.9610\n",
        "Лучшие параметры:\n",
        "'loss_function': 'Logloss',\n",
        " 'eval_metric': 'AUC:hints=skip_train~false',\n",
        " 'bootstrap_type': 'Bayesian',\n",
        " 'random_state': 42,\n",
        " 'early_stopping_rounds': 300,\n",
        " 'min_data_in_leaf': 100,\n",
        " 'depth': 7,\n",
        " 'iterations': 500,\n",
        " 'learning_rate': 0.05,\n",
        " 'grow_policy': 'Lossguide',\n",
        " 'score_function': 'L2'"
      ]
    },
    {
      "cell_type": "markdown",
      "metadata": {
        "id": "dDMXbvNZEEZV"
      },
      "source": [
        "# Предсказания"
      ]
    },
    {
      "cell_type": "code",
      "metadata": {
        "id": "G_P4wFNaEEZW"
      },
      "source": [
        "best_model = model3"
      ],
      "execution_count": null,
      "outputs": []
    },
    {
      "cell_type": "code",
      "metadata": {
        "id": "FfSufx0CEEZZ"
      },
      "source": [
        "data = pd.read_csv('./test.csv')\n",
        "submission = pd.read_csv('./submission.csv')"
      ],
      "execution_count": null,
      "outputs": []
    },
    {
      "cell_type": "code",
      "source": [
        "if best_model != model3:\n",
        "  for col in data:\n",
        "      if data[col].dtype == object:\n",
        "          data[col] = data[col].apply(func=lambda x: None if (x is None or str.isspace(x) or not x) else x)\n",
        "\n",
        "  data['TotalSpent'].fillna(data['MonthlySpending'], inplace=True)\n",
        "\n",
        "\n",
        "  for col in num_cols:\n",
        "      data[col] = data[col].apply(float)\n",
        "      \n",
        "  dm = pd.get_dummies(data[cat_cols], drop_first=True)\n",
        "\n",
        "  X_test = pd.concat([data[num_cols], dm], axis=1).copy()\n",
        "\n",
        "else:\n",
        "  X_test = data"
      ],
      "metadata": {
        "id": "k4RGTVcgwAvn"
      },
      "execution_count": null,
      "outputs": []
    },
    {
      "cell_type": "code",
      "source": [
        "final_test_pred = best_model.predict_proba(X_test)[:, 1]\n",
        "\n",
        "submission['Churn'] = final_test_pred\n",
        "submission.to_csv('./my_submission.csv', index=False)"
      ],
      "metadata": {
        "id": "CU1xJg0YwB7t"
      },
      "execution_count": null,
      "outputs": []
    },
    {
      "cell_type": "markdown",
      "metadata": {
        "id": "mkxjbGkVEEZc"
      },
      "source": [
        "# Kaggle (5 баллов)\n",
        "\n",
        "Как выставить баллы:\n",
        "\n",
        "1) 1 >= roc auc > 0.84 это 5 баллов\n",
        "\n",
        "2) 0.84 >= roc auc > 0.7 это 3 балла\n",
        "\n",
        "3) 0.7 >= roc auc > 0.6 это 1 балл\n",
        "\n",
        "4) 0.6 >= roc auc это 0 баллов\n",
        "\n",
        "\n",
        "Для выполнения задания необходимо выполнить следующие шаги.\n",
        "* Зарегистрироваться на платформе [kaggle.com](kaggle.com). Процесс выставления оценок будет проходить при подведении итогового рейтинга. Пожалуйста, укажите во вкладке Team -> Team name свои имя и фамилию в формате Имя_Фамилия (важно, чтобы имя и фамилия совпадали с данными на Stepik).\n",
        "* Обучить модель, получить файл с ответами в формате .csv и сдать его в конкурс. Пробуйте и экспериментируйте. Обратите внимание, что вы можете выполнять до 20 попыток сдачи на kaggle в день.\n",
        "* После окончания соревнования отправить в итоговый ноутбук с решением на степик. \n",
        "* После дедлайна проверьте посылки других участников по критериям. Для этого надо зайти на степик, скачать их ноутбук и проверить скор в соревновании."
      ]
    }
  ]
}